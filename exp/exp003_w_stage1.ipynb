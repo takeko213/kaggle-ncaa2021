{
 "cells": [
  {
   "cell_type": "markdown",
   "metadata": {},
   "source": [
    "# exp003_m_stage1\n",
    "後処理"
   ]
  },
  {
   "cell_type": "code",
   "execution_count": 1,
   "metadata": {},
   "outputs": [
    {
     "data": {
      "text/html": [
       "<style type='text/css'>\n",
       ".datatable table.frame { margin-bottom: 0; }\n",
       ".datatable table.frame thead { border-bottom: none; }\n",
       ".datatable table.frame tr.coltypes td {  color: #FFFFFF;  line-height: 6px;  padding: 0 0.5em;}\n",
       ".datatable .bool    { background: #DDDD99; }\n",
       ".datatable .object  { background: #565656; }\n",
       ".datatable .int     { background: #5D9E5D; }\n",
       ".datatable .float   { background: #4040CC; }\n",
       ".datatable .str     { background: #CC4040; }\n",
       ".datatable .row_index {  background: var(--jp-border-color3);  border-right: 1px solid var(--jp-border-color0);  color: var(--jp-ui-font-color3);  font-size: 9px;}\n",
       ".datatable .frame tr.coltypes .row_index {  background: var(--jp-border-color0);}\n",
       ".datatable th:nth-child(2) { padding-left: 12px; }\n",
       ".datatable .hellipsis {  color: var(--jp-cell-editor-border-color);}\n",
       ".datatable .vellipsis {  background: var(--jp-layout-color0);  color: var(--jp-cell-editor-border-color);}\n",
       ".datatable .na {  color: var(--jp-cell-editor-border-color);  font-size: 80%;}\n",
       ".datatable .footer { font-size: 9px; }\n",
       ".datatable .frame_dimensions {  background: var(--jp-border-color3);  border-top: 1px solid var(--jp-border-color0);  color: var(--jp-ui-font-color3);  display: inline-block;  opacity: 0.6;  padding: 1px 10px 1px 5px;}\n",
       "</style>\n"
      ],
      "text/plain": [
       "<IPython.core.display.HTML object>"
      ]
     },
     "metadata": {},
     "output_type": "display_data"
    }
   ],
   "source": [
    "import os\n",
    "import datetime\n",
    "import pandas as pd\n",
    "import numpy as np\n",
    "import matplotlib.pyplot as plt\n",
    "import seaborn as sns\n",
    "sns.set(style='darkgrid')\n",
    "\n",
    "from tqdm import tqdm\n",
    "from itertools import product\n",
    "\n",
    "from sklearn.linear_model import LogisticRegression\n",
    "import lightgbm as lgb\n",
    "from optuna.integration import lightgbm as lgb_tuner\n",
    "from catboost import CatBoost, FeaturesData, Pool\n",
    "\n",
    "from sklearn.metrics import mean_squared_error, log_loss\n",
    "from sklearn.preprocessing import LabelEncoder, StandardScaler\n",
    "from sklearn.model_selection import RepeatedStratifiedKFold"
   ]
  },
  {
   "cell_type": "code",
   "execution_count": 2,
   "metadata": {},
   "outputs": [],
   "source": [
    "# 設定\n",
    "EXP_NAME = 'exp003_w_stage1'\n",
    "INPUT_DIR = '../input/ncaaw-march-mania-2021'\n",
    "OUTPUT_DIR = f'../output/{EXP_NAME}'"
   ]
  },
  {
   "cell_type": "code",
   "execution_count": 3,
   "metadata": {},
   "outputs": [],
   "source": [
    "# 出力フォルダ生成\n",
    "os.makedirs(OUTPUT_DIR)"
   ]
  },
  {
   "cell_type": "markdown",
   "metadata": {},
   "source": [
    "## データ読み込み"
   ]
  },
  {
   "cell_type": "code",
   "execution_count": 4,
   "metadata": {},
   "outputs": [],
   "source": [
    "tourny_results = pd.read_csv(INPUT_DIR + '/WNCAATourneyDetailedResults.csv')\n",
    "regular_results = pd.read_csv(INPUT_DIR + '/WRegularSeasonDetailedResults.csv')\n",
    "seeds = pd.read_csv(INPUT_DIR + '/WNCAATourneySeeds.csv')\n",
    "seasons = pd.read_csv(INPUT_DIR + '/WSeasons.csv')\n",
    "conf = pd.read_csv(INPUT_DIR + '/WTeamConferences.csv')"
   ]
  },
  {
   "cell_type": "code",
   "execution_count": 5,
   "metadata": {},
   "outputs": [],
   "source": [
    "test = pd.read_csv(INPUT_DIR + '/WSampleSubmissionStage1.csv')"
   ]
  },
  {
   "cell_type": "markdown",
   "metadata": {},
   "source": [
    "## 特徴量生成"
   ]
  },
  {
   "cell_type": "code",
   "execution_count": 6,
   "metadata": {},
   "outputs": [],
   "source": [
    "def prepare_data(df):\n",
    "    dfswap = df[['Season', 'DayNum', 'LTeamID', 'LScore', 'WTeamID', 'WScore', 'WLoc', 'NumOT', \n",
    "    'LFGM', 'LFGA', 'LFGM3', 'LFGA3', 'LFTM', 'LFTA', 'LOR', 'LDR', 'LAst', 'LTO', 'LStl', 'LBlk', 'LPF', \n",
    "    'WFGM', 'WFGA', 'WFGM3', 'WFGA3', 'WFTM', 'WFTA', 'WOR', 'WDR', 'WAst', 'WTO', 'WStl', 'WBlk', 'WPF']]\n",
    "\n",
    "    dfswap.loc[df['WLoc'] == 'H', 'WLoc'] = 'A'\n",
    "    dfswap.loc[df['WLoc'] == 'A', 'WLoc'] = 'H'\n",
    "    df.columns.values[6] = 'location'\n",
    "    dfswap.columns.values[6] = 'location'    \n",
    "      \n",
    "    df.columns = [x.replace('W','T1_').replace('L','T2_') for x in list(df.columns)]\n",
    "    dfswap.columns = [x.replace('L','T1_').replace('W','T2_') for x in list(dfswap.columns)]\n",
    "\n",
    "    output = pd.concat([df, dfswap]).reset_index(drop=True)\n",
    "    output.loc[output.location=='N','location'] = '0'\n",
    "    output.loc[output.location=='H','location'] = '1'\n",
    "    output.loc[output.location=='A','location'] = '-1'\n",
    "    output.location = output.location.astype(int)\n",
    "    \n",
    "    output['PointDiff'] = output['T1_Score'] - output['T2_Score']\n",
    "    \n",
    "    output['win'] = 1\n",
    "    output.loc[output['T1_Score'] < output['T2_Score'],'win'] = 0\n",
    "    \n",
    "    #stats\n",
    "    output['T1_Posses'] = 0.96*(output['T1_FGA']+output['T1_TO']+(0.475*output['T1_FTA']))-output['T1_OR']\n",
    "    output['T1_Offens_Rate'] = 100*(output['T1_Score']/output['T1_Posses'])\n",
    "    output['T1_Defens_Rate'] = 100*(output['T2_Score']/output['T1_Posses'])\n",
    "    output['T1_Str_Schedule'] = 100*(output['T1_Offens_Rate']-output['T1_Defens_Rate'])\n",
    "    output['T1_PIE'] = (output['T1_Score']+output['T1_FGM']+output['T1_FTM']-output['T1_FGA']-output['T1_FTA']+output['T1_DR']\n",
    "                        +(0.5*output['T1_OR'])+output['T1_Ast']+output['T1_Stl']+(0.5*output['T1_Blk'])-output['T1_PF']-output['T1_TO'])\n",
    "    output['T2_PIE'] = (output['T2_Score']+output['T2_FGM']+output['T2_FTM']-output['T2_FGA']-output['T2_FTA']+output['T2_DR']\n",
    "                        +(0.5*output['T2_OR'])+output['T2_Ast']+output['T2_Stl']+(0.5*output['T2_Blk'])-output['T2_PF']-output['T2_TO'])\n",
    "    \n",
    "    output['T1_TIE'] = output['T1_PIE']/(output['T1_PIE']+output['T2_PIE'])\n",
    "    output['T1_Ast_Rate'] = (100*output['T1_Ast'])/(output['T1_FGA']+(0.475*output['T1_FTA'])+output['T1_Ast']+output['T1_TO'])\n",
    "    output['T1_TO_Rate'] = (100*output['T1_TO'])/(output['T1_FGA']+(0.475*output['T1_FTA'])+output['T1_Ast']+output['T1_TO'])\n",
    "    output['T1_True_Shoot%'] = (100*output['T1_Score'])/(2*(output['T1_FGA']+(0.475+output['T1_FTA'])))\n",
    "    output['T1_Effect_FG%'] = (output['T1_FGM']+0.5*output['T1_FGM3'])/output['T1_FGA']\n",
    "    output['T1_Free_Rate'] = output['T1_FTA']/output['T1_FGA']\n",
    "    output['T1_OR%'] = output['T1_OR']/(output['T1_OR']+output['T2_OR'])\n",
    "    output['T1_DR%'] = output['T1_DR']/(output['T1_DR']+output['T2_DR'])\n",
    "    output['T1_TR%'] = (output['T1_DR']+output['T1_OR'])/(output['T1_DR']+output['T1_OR']+output['T2_DR']+output['T2_OR']) \n",
    "    \n",
    "    return output"
   ]
  },
  {
   "cell_type": "code",
   "execution_count": 7,
   "metadata": {},
   "outputs": [],
   "source": [
    "def agg_data(df, label):\n",
    "    key = ['Season', 'T1_TeamID']\n",
    "    res = df[key].drop_duplicates()\n",
    "\n",
    "\n",
    "    # 試合数\n",
    "    tmp = df.groupby(key)['DayNum'].count().reset_index()\n",
    "    tmp = tmp.rename(columns = {'DayNum':'total_game_cnt'})\n",
    "    res = res.merge(tmp, on=key, how='left')\n",
    "\n",
    "    # 平均値\n",
    "    cols = list(df.columns)\n",
    "    cols = [c for c in cols if c not in ['DayNum','location','T2_TeamID', 'win']]\n",
    "    tmp = df[cols].groupby(key).mean().reset_index()\n",
    "    tmp.columns = [c if c in key else c + '_mean_' + label  for c in cols]\n",
    "    res = res.merge(tmp, on=key, how='left')\n",
    "\n",
    "    # 勝率\n",
    "    # 全体\n",
    "    tmp = df.groupby(key)['win'].mean().reset_index()\n",
    "    tmp = tmp.rename(columns = {'win':'win_rate_' + label})\n",
    "    res = res.merge(tmp, on=key, how='left')\n",
    "\n",
    "    res.columns = res.columns.str.replace('T1_', '')\n",
    "    res.columns = res.columns.str.replace('T2_', 'Op_')\n",
    "    \n",
    "    return res\n"
   ]
  },
  {
   "cell_type": "code",
   "execution_count": 8,
   "metadata": {},
   "outputs": [],
   "source": [
    "tourny_data = prepare_data(tourny_results)\n",
    "regular_data = prepare_data(regular_results)\n",
    "\n",
    "tourny_summary = agg_data(tourny_data, 'TOUR')\n",
    "regular_summary = agg_data(regular_data, 'REG')"
   ]
  },
  {
   "cell_type": "code",
   "execution_count": 9,
   "metadata": {},
   "outputs": [],
   "source": [
    "seeds['Region'] = seeds['Seed'].apply(lambda x: x[0])\n",
    "seeds['Seed'] = seeds['Seed'].apply(lambda x: int(x[1:3]))"
   ]
  },
  {
   "cell_type": "code",
   "execution_count": 10,
   "metadata": {},
   "outputs": [],
   "source": [
    "conf['isMeasure'] = 0\n",
    "measure_confs = ['a_ten','aac','acc','big_east','big_ten','big_twelve',\n",
    "                 'mwc','wcc','pac_ten','pac_twelve','sec']\n",
    "\n",
    "for mc in measure_confs:\n",
    "    conf.loc[conf['ConfAbbrev']==mc,'isMeasure'] = 1"
   ]
  },
  {
   "cell_type": "code",
   "execution_count": 11,
   "metadata": {},
   "outputs": [],
   "source": [
    "regular_tour = pd.concat([tourny_data[['Season','T1_TeamID','T2_TeamID','win']],regular_data[['Season','T1_TeamID','T2_TeamID','win']]])\n",
    "overall_history = pd.DataFrame()\n",
    "\n",
    "for s in regular_tour['Season'].unique():\n",
    "    tmp = regular_tour[regular_tour['Season']!=s]\n",
    "    tmp = tmp.groupby(['T1_TeamID','T2_TeamID'])['win'].mean().reset_index()\n",
    "    tmp['Season'] = s\n",
    "    tmp = tmp.rename(columns={'win':'win_rate_overall'})\n",
    "    overall_history = overall_history.append(tmp)"
   ]
  },
  {
   "cell_type": "code",
   "execution_count": 12,
   "metadata": {},
   "outputs": [],
   "source": [
    "last14d = regular_data[regular_data['DayNum']>118]\n",
    "last14d = last14d.groupby(['Season','T1_TeamID'])['win'].mean().reset_index()\n",
    "last14d = last14d.rename(columns={'win':'l14d_win_rate','T1_TeamID':'TeamID'})"
   ]
  },
  {
   "cell_type": "markdown",
   "metadata": {},
   "source": [
    "## train,test生成"
   ]
  },
  {
   "cell_type": "code",
   "execution_count": 13,
   "metadata": {},
   "outputs": [],
   "source": [
    "def merge_data(df,merge_df,col):\n",
    "    df = df.merge(merge_df[['Season','TeamID', col]],left_on=['Season','T1_TeamID'],right_on=['Season','TeamID'],how='left')\n",
    "    df = df.rename(columns={col:'T1_' + col})\n",
    "    del df['TeamID']\n",
    "\n",
    "    df = df.merge(merge_df[['Season','TeamID', col]],left_on=['Season','T2_TeamID'],right_on=['Season','TeamID'],how='left')\n",
    "    df = df.rename(columns={col:'T2_' + col})\n",
    "    del df['TeamID']\n",
    "    \n",
    "    return df"
   ]
  },
  {
   "cell_type": "code",
   "execution_count": 14,
   "metadata": {},
   "outputs": [],
   "source": [
    "def process_train_test_data(df, test_data = False):\n",
    "    df = merge_data(df, seeds, 'Seed')\n",
    "    df['Seed_dif'] = df['T1_Seed'] - df['T2_Seed']\n",
    "    \n",
    "    df = merge_data(df, seeds, 'Region')\n",
    "    \n",
    "    df['Same_Seed_Loc'] = 0\n",
    "    df.loc[df['T1_Region']==df['T2_Region'],'Same_Seed_Loc'] = 1\n",
    "      \n",
    "    df = merge_data(df, conf, 'isMeasure')\n",
    "    df['isMeasure_dif'] = df['T1_isMeasure'] - df['T2_isMeasure']\n",
    "    del df['T1_isMeasure']\n",
    "    del df['T2_isMeasure']\n",
    "    \n",
    "    items = ['Score_mean_REG','Op_Score_mean_REG','PointDiff_mean_REG',\n",
    "             'win_rate_REG', \n",
    "             'Posses_mean_REG', 'Offens_Rate_mean_REG',\n",
    "             'Defens_Rate_mean_REG', 'Str_Schedule_mean_REG', 'PIE_mean_REG',\n",
    "             'Op_PIE_mean_REG', 'TIE_mean_REG', 'Ast_Rate_mean_REG',\n",
    "             'TO_Rate_mean_REG', 'True_Shoot%_mean_REG', 'Effect_FG%_mean_REG',\n",
    "             'Free_Rate_mean_REG', 'OR%_mean_REG', 'DR%_mean_REG', 'TR%_mean_REG']\n",
    "    for item in items:\n",
    "        df = merge_data(df, regular_summary, item)\n",
    "        df[item + '_dif'] = df['T1_' + item] - df['T2_' + item]\n",
    "        del df['T1_' + item]\n",
    "        del df['T2_' + item]\n",
    "        \n",
    "    df = df.merge(overall_history,on=['T1_TeamID','T2_TeamID','Season'],how='left')\n",
    "    df['win_rate_overall'] = df['win_rate_overall'].fillna(-1)\n",
    "    df = merge_data(df, last14d, 'l14d_win_rate')\n",
    "    df['l14d_win_rate_dif'] = df['T1_l14d_win_rate'] - df['T2_l14d_win_rate']\n",
    "    del df['T1_l14d_win_rate']\n",
    "    del df['T2_l14d_win_rate']\n",
    "    \n",
    "    return df"
   ]
  },
  {
   "cell_type": "code",
   "execution_count": 15,
   "metadata": {},
   "outputs": [],
   "source": [
    "train = tourny_data[['Season','T1_TeamID', 'T2_TeamID', 'win']].copy()\n",
    "train = train[train['T1_TeamID']<train['T2_TeamID']]\n",
    "train = process_train_test_data(train)"
   ]
  },
  {
   "cell_type": "code",
   "execution_count": 16,
   "metadata": {},
   "outputs": [],
   "source": [
    "features = [c for c in train.columns if c not in ['Season','win','T1_TeamID','T2_TeamID','T1_Seed','T2_Seed', 'T1_Region', 'T2_Region']]\n",
    "target = 'win'"
   ]
  },
  {
   "cell_type": "code",
   "execution_count": 17,
   "metadata": {},
   "outputs": [],
   "source": [
    "test['Season'] = test['ID'].apply(lambda x: int(x.split('_')[0]))\n",
    "test['T1_TeamID'] = test['ID'].apply(lambda x: int(x.split('_')[1]))\n",
    "test['T2_TeamID'] = test['ID'].apply(lambda x: int(x.split('_')[2]))\n",
    "\n",
    "test = process_train_test_data(test)"
   ]
  },
  {
   "cell_type": "code",
   "execution_count": 18,
   "metadata": {},
   "outputs": [],
   "source": [
    "sc = StandardScaler()\n",
    "train[features] = sc.fit_transform(train[features])\n",
    "test[features] = sc.transform(test[features])"
   ]
  },
  {
   "cell_type": "code",
   "execution_count": 19,
   "metadata": {},
   "outputs": [
    {
     "data": {
      "text/plain": [
       "Season                       0\n",
       "T1_TeamID                    0\n",
       "T2_TeamID                    0\n",
       "win                          0\n",
       "T1_Seed                      0\n",
       "T2_Seed                      0\n",
       "Seed_dif                     0\n",
       "T1_Region                    0\n",
       "T2_Region                    0\n",
       "Same_Seed_Loc                0\n",
       "isMeasure_dif                0\n",
       "Score_mean_REG_dif           0\n",
       "Op_Score_mean_REG_dif        0\n",
       "PointDiff_mean_REG_dif       0\n",
       "win_rate_REG_dif             0\n",
       "Posses_mean_REG_dif          0\n",
       "Offens_Rate_mean_REG_dif     0\n",
       "Defens_Rate_mean_REG_dif     0\n",
       "Str_Schedule_mean_REG_dif    0\n",
       "PIE_mean_REG_dif             0\n",
       "Op_PIE_mean_REG_dif          0\n",
       "TIE_mean_REG_dif             0\n",
       "Ast_Rate_mean_REG_dif        0\n",
       "TO_Rate_mean_REG_dif         0\n",
       "True_Shoot%_mean_REG_dif     0\n",
       "Effect_FG%_mean_REG_dif      0\n",
       "Free_Rate_mean_REG_dif       0\n",
       "OR%_mean_REG_dif             0\n",
       "DR%_mean_REG_dif             0\n",
       "TR%_mean_REG_dif             0\n",
       "win_rate_overall             0\n",
       "l14d_win_rate_dif            0\n",
       "dtype: int64"
      ]
     },
     "execution_count": 19,
     "metadata": {},
     "output_type": "execute_result"
    }
   ],
   "source": [
    "train.isnull().sum()"
   ]
  },
  {
   "cell_type": "code",
   "execution_count": 20,
   "metadata": {},
   "outputs": [
    {
     "data": {
      "text/plain": [
       "Index(['Season', 'T1_TeamID', 'T2_TeamID', 'win', 'T1_Seed', 'T2_Seed',\n",
       "       'Seed_dif', 'T1_Region', 'T2_Region', 'Same_Seed_Loc', 'isMeasure_dif',\n",
       "       'Score_mean_REG_dif', 'Op_Score_mean_REG_dif', 'PointDiff_mean_REG_dif',\n",
       "       'win_rate_REG_dif', 'Posses_mean_REG_dif', 'Offens_Rate_mean_REG_dif',\n",
       "       'Defens_Rate_mean_REG_dif', 'Str_Schedule_mean_REG_dif',\n",
       "       'PIE_mean_REG_dif', 'Op_PIE_mean_REG_dif', 'TIE_mean_REG_dif',\n",
       "       'Ast_Rate_mean_REG_dif', 'TO_Rate_mean_REG_dif',\n",
       "       'True_Shoot%_mean_REG_dif', 'Effect_FG%_mean_REG_dif',\n",
       "       'Free_Rate_mean_REG_dif', 'OR%_mean_REG_dif', 'DR%_mean_REG_dif',\n",
       "       'TR%_mean_REG_dif', 'win_rate_overall', 'l14d_win_rate_dif'],\n",
       "      dtype='object')"
      ]
     },
     "execution_count": 20,
     "metadata": {},
     "output_type": "execute_result"
    }
   ],
   "source": [
    "train.columns"
   ]
  },
  {
   "cell_type": "markdown",
   "metadata": {},
   "source": [
    "## 学習"
   ]
  },
  {
   "cell_type": "code",
   "execution_count": 21,
   "metadata": {},
   "outputs": [],
   "source": [
    "def show_eval_results(df):\n",
    "    eval_summary = pd.DataFrame()\n",
    "    means = []\n",
    "    for eval_s in eval_seasons:\n",
    "        df_s = df[df['Season']==eval_s]\n",
    "        res = log_loss(df_s[target], df_s['pred'])\n",
    "        eval_summary.loc[0,'s'+str(eval_s)] = res\n",
    "\n",
    "    total = log_loss(df[target], df['pred'])\n",
    "    eval_summary.loc[0,'total'] = total\n",
    "    print(eval_summary)"
   ]
  },
  {
   "cell_type": "code",
   "execution_count": 22,
   "metadata": {},
   "outputs": [],
   "source": [
    "def fit_eval(cols):\n",
    "    eval_seasons = np.arange(2015,2020,1)\n",
    "    eval_df_all = pd.DataFrame()\n",
    "    #feature_importances = pd.DataFrame()\n",
    "    #feature_importances['feature'] = features\n",
    "\n",
    "    for eval_s in eval_seasons:\n",
    "        eval_df = train[train['Season'] == eval_s].copy()\n",
    "        train_df = train[train['Season'] != eval_s].copy()\n",
    "\n",
    "        model = LogisticRegression(max_iter=1000)\n",
    "        model.fit(train_df[cols],train_df[target])\n",
    "\n",
    "        eval_df['pred'] = model.predict_proba(eval_df[cols])[:,1]\n",
    "        res = log_loss(eval_df[target], eval_df['pred'])\n",
    "        eval_df_all = eval_df_all.append(eval_df)\n",
    "\n",
    "    total = log_loss(eval_df_all[target], eval_df_all['pred'])\n",
    "    \n",
    "    return total"
   ]
  },
  {
   "cell_type": "code",
   "execution_count": 23,
   "metadata": {},
   "outputs": [
    {
     "name": "stdout",
     "output_type": "stream",
     "text": [
      "itr1 / num:24 / st_score:0.4777654944236924\n",
      "DROP:Seed_dif / 0.4978311300304802\n",
      "DROP:Same_Seed_Loc / 0.4743013483332516\n",
      "DROP:isMeasure_dif / 0.4732413132483726\n",
      "DROP:Score_mean_REG_dif / 0.47734900892295606\n",
      "DROP:Op_Score_mean_REG_dif / 0.4771439277481449\n",
      "DROP:PointDiff_mean_REG_dif / 0.4772295674430928\n",
      "DROP:win_rate_REG_dif / 0.4840189156882566\n",
      "DROP:Posses_mean_REG_dif / 0.4775030398468464\n",
      "DROP:Offens_Rate_mean_REG_dif / 0.47749653295691274\n",
      "DROP:Defens_Rate_mean_REG_dif / 0.4776838896354681\n",
      "DROP:Str_Schedule_mean_REG_dif / 0.4776486300493196\n",
      "DROP:PIE_mean_REG_dif / 0.4763851431147805\n",
      "DROP:Op_PIE_mean_REG_dif / 0.4763888084643301\n",
      "DROP:TIE_mean_REG_dif / 0.4769164859864514\n",
      "DROP:Ast_Rate_mean_REG_dif / 0.47359626268177873\n",
      "DROP:TO_Rate_mean_REG_dif / 0.47428925475592043\n",
      "DROP:True_Shoot%_mean_REG_dif / 0.47656301126734846\n",
      "DROP:Effect_FG%_mean_REG_dif / 0.4771635173065152\n",
      "DROP:Free_Rate_mean_REG_dif / 0.4762718937923251\n",
      "DROP:OR%_mean_REG_dif / 0.4771389445869933\n",
      "DROP:DR%_mean_REG_dif / 0.4771947841407243\n",
      "DROP:TR%_mean_REG_dif / 0.47735860767945776\n",
      "DROP:win_rate_overall / 0.47481212182407767\n",
      "DROP:l14d_win_rate_dif / 0.4763289092835115\n",
      "BEST_RESULT : 0.4732413132483726 / DROP_COL : isMeasure_dif\n",
      "itr2 / num:23 / st_score:0.4732413132483726\n",
      "DROP:Seed_dif / 0.5409447619224482\n",
      "DROP:Same_Seed_Loc / 0.4697483153309452\n",
      "DROP:Score_mean_REG_dif / 0.47274129039113605\n",
      "DROP:Op_Score_mean_REG_dif / 0.4727925649887049\n",
      "DROP:PointDiff_mean_REG_dif / 0.47278681355926294\n",
      "DROP:win_rate_REG_dif / 0.48233438026132647\n",
      "DROP:Posses_mean_REG_dif / 0.4730013742740209\n",
      "DROP:Offens_Rate_mean_REG_dif / 0.47294566936485083\n",
      "DROP:Defens_Rate_mean_REG_dif / 0.4732229951791698\n",
      "DROP:Str_Schedule_mean_REG_dif / 0.47312661858625227\n",
      "DROP:PIE_mean_REG_dif / 0.4719893614289413\n",
      "DROP:Op_PIE_mean_REG_dif / 0.47204950951584485\n",
      "DROP:TIE_mean_REG_dif / 0.47238727372311534\n",
      "DROP:Ast_Rate_mean_REG_dif / 0.4687296950914674\n",
      "DROP:TO_Rate_mean_REG_dif / 0.47022058755173424\n",
      "DROP:True_Shoot%_mean_REG_dif / 0.47185174758715714\n",
      "DROP:Effect_FG%_mean_REG_dif / 0.4728323783389115\n",
      "DROP:Free_Rate_mean_REG_dif / 0.4712548303501237\n",
      "DROP:OR%_mean_REG_dif / 0.4727089991188381\n",
      "DROP:DR%_mean_REG_dif / 0.4726236384439024\n",
      "DROP:TR%_mean_REG_dif / 0.47290598857127236\n",
      "DROP:win_rate_overall / 0.4703484087417889\n",
      "DROP:l14d_win_rate_dif / 0.4705535044436995\n",
      "BEST_RESULT : 0.4687296950914674 / DROP_COL : Ast_Rate_mean_REG_dif\n",
      "itr3 / num:22 / st_score:0.4687296950914674\n",
      "DROP:Seed_dif / 0.5374033529304981\n",
      "DROP:Same_Seed_Loc / 0.46496029083743057\n",
      "DROP:Score_mean_REG_dif / 0.4681602815440347\n",
      "DROP:Op_Score_mean_REG_dif / 0.4683543602459122\n",
      "DROP:PointDiff_mean_REG_dif / 0.46813140092653166\n",
      "DROP:win_rate_REG_dif / 0.4776239499171275\n",
      "DROP:Posses_mean_REG_dif / 0.468517025309949\n",
      "DROP:Offens_Rate_mean_REG_dif / 0.46853269010806625\n",
      "DROP:Defens_Rate_mean_REG_dif / 0.4687457201931202\n",
      "DROP:Str_Schedule_mean_REG_dif / 0.4686405402961033\n",
      "DROP:PIE_mean_REG_dif / 0.4677572824259473\n",
      "DROP:Op_PIE_mean_REG_dif / 0.4676013250473547\n",
      "DROP:TIE_mean_REG_dif / 0.4675358377210643\n",
      "DROP:TO_Rate_mean_REG_dif / 0.4656405064623207\n",
      "DROP:True_Shoot%_mean_REG_dif / 0.467994439990838\n",
      "DROP:Effect_FG%_mean_REG_dif / 0.46767168512620044\n",
      "DROP:Free_Rate_mean_REG_dif / 0.46686318105608504\n",
      "DROP:OR%_mean_REG_dif / 0.46791444214823635\n",
      "DROP:DR%_mean_REG_dif / 0.46831869231778234\n",
      "DROP:TR%_mean_REG_dif / 0.46843739266783463\n",
      "DROP:win_rate_overall / 0.46583623759025933\n",
      "DROP:l14d_win_rate_dif / 0.46638432898918486\n",
      "BEST_RESULT : 0.46496029083743057 / DROP_COL : Same_Seed_Loc\n",
      "itr4 / num:21 / st_score:0.46496029083743057\n",
      "DROP:Seed_dif / 0.5342781768126124\n",
      "DROP:Score_mean_REG_dif / 0.4644679732448511\n",
      "DROP:Op_Score_mean_REG_dif / 0.4646879578653325\n",
      "DROP:PointDiff_mean_REG_dif / 0.4645046247416038\n",
      "DROP:win_rate_REG_dif / 0.47366711395929223\n",
      "DROP:Posses_mean_REG_dif / 0.4647564967472477\n",
      "DROP:Offens_Rate_mean_REG_dif / 0.4648147837601385\n",
      "DROP:Defens_Rate_mean_REG_dif / 0.4649464228721392\n",
      "DROP:Str_Schedule_mean_REG_dif / 0.46487852898682214\n",
      "DROP:PIE_mean_REG_dif / 0.4639093923982121\n",
      "DROP:Op_PIE_mean_REG_dif / 0.4638372090336287\n",
      "DROP:TIE_mean_REG_dif / 0.4636984743974211\n",
      "DROP:TO_Rate_mean_REG_dif / 0.46221853490683684\n",
      "DROP:True_Shoot%_mean_REG_dif / 0.464117957332368\n",
      "DROP:Effect_FG%_mean_REG_dif / 0.4639804003101856\n",
      "DROP:Free_Rate_mean_REG_dif / 0.46295376051395826\n",
      "DROP:OR%_mean_REG_dif / 0.46403798239058325\n",
      "DROP:DR%_mean_REG_dif / 0.4645835782609344\n",
      "DROP:TR%_mean_REG_dif / 0.4646351984101075\n",
      "DROP:win_rate_overall / 0.46166763804611144\n",
      "DROP:l14d_win_rate_dif / 0.46261812456317325\n",
      "BEST_RESULT : 0.46166763804611144 / DROP_COL : win_rate_overall\n",
      "itr5 / num:20 / st_score:0.46166763804611144\n",
      "DROP:Seed_dif / 0.5351594843293594\n",
      "DROP:Score_mean_REG_dif / 0.46117942695475567\n",
      "DROP:Op_Score_mean_REG_dif / 0.46138289179672193\n",
      "DROP:PointDiff_mean_REG_dif / 0.46121366625770727\n",
      "DROP:win_rate_REG_dif / 0.47070667459995674\n",
      "DROP:Posses_mean_REG_dif / 0.4614688713471975\n",
      "DROP:Offens_Rate_mean_REG_dif / 0.4615012221857254\n",
      "DROP:Defens_Rate_mean_REG_dif / 0.4616278568905646\n",
      "DROP:Str_Schedule_mean_REG_dif / 0.46157496154268307\n",
      "DROP:PIE_mean_REG_dif / 0.46083071655474656\n",
      "DROP:Op_PIE_mean_REG_dif / 0.460485331506069\n",
      "DROP:TIE_mean_REG_dif / 0.4606920046626332\n",
      "DROP:TO_Rate_mean_REG_dif / 0.45889888248112964\n",
      "DROP:True_Shoot%_mean_REG_dif / 0.460766567807176\n",
      "DROP:Effect_FG%_mean_REG_dif / 0.4606338256243228\n",
      "DROP:Free_Rate_mean_REG_dif / 0.4597282160109979\n",
      "DROP:OR%_mean_REG_dif / 0.4607427454883471\n",
      "DROP:DR%_mean_REG_dif / 0.46129424104727185\n",
      "DROP:TR%_mean_REG_dif / 0.4613381149619483\n",
      "DROP:l14d_win_rate_dif / 0.45938417194875053\n",
      "BEST_RESULT : 0.45889888248112964 / DROP_COL : TO_Rate_mean_REG_dif\n",
      "itr6 / num:19 / st_score:0.45889888248112964\n",
      "DROP:Seed_dif / 0.5339815681742799\n",
      "DROP:Score_mean_REG_dif / 0.458532737262896\n",
      "DROP:Op_Score_mean_REG_dif / 0.45866256604152283\n",
      "DROP:PointDiff_mean_REG_dif / 0.4585197865195846\n",
      "DROP:win_rate_REG_dif / 0.4685600912727391\n",
      "DROP:Posses_mean_REG_dif / 0.4589729406055414\n",
      "DROP:Offens_Rate_mean_REG_dif / 0.4590549456272385\n",
      "DROP:Defens_Rate_mean_REG_dif / 0.45890469851533644\n",
      "DROP:Str_Schedule_mean_REG_dif / 0.45888132592506525\n",
      "DROP:PIE_mean_REG_dif / 0.456547756739098\n",
      "DROP:Op_PIE_mean_REG_dif / 0.4578528996626158\n",
      "DROP:TIE_mean_REG_dif / 0.45779208791469816\n",
      "DROP:True_Shoot%_mean_REG_dif / 0.4574598004660549\n",
      "DROP:Effect_FG%_mean_REG_dif / 0.45817326996630886\n",
      "DROP:Free_Rate_mean_REG_dif / 0.4567959585317669\n",
      "DROP:OR%_mean_REG_dif / 0.4580355403879814\n",
      "DROP:DR%_mean_REG_dif / 0.45848922608684334\n",
      "DROP:TR%_mean_REG_dif / 0.4585946680557104\n",
      "DROP:l14d_win_rate_dif / 0.45655588517850226\n",
      "BEST_RESULT : 0.456547756739098 / DROP_COL : PIE_mean_REG_dif\n",
      "itr7 / num:18 / st_score:0.456547756739098\n",
      "DROP:Seed_dif / 0.5332803576971565\n",
      "DROP:Score_mean_REG_dif / 0.4562745518905035\n",
      "DROP:Op_Score_mean_REG_dif / 0.45644270730060726\n",
      "DROP:PointDiff_mean_REG_dif / 0.45636023591037256\n",
      "DROP:win_rate_REG_dif / 0.4666737041498938\n",
      "DROP:Posses_mean_REG_dif / 0.4566264499551713\n",
      "DROP:Offens_Rate_mean_REG_dif / 0.4567869457350033\n",
      "DROP:Defens_Rate_mean_REG_dif / 0.45648620790695454\n",
      "DROP:Str_Schedule_mean_REG_dif / 0.45653224964065764\n",
      "DROP:Op_PIE_mean_REG_dif / 0.45394228918933455\n",
      "DROP:TIE_mean_REG_dif / 0.45493800092747116\n",
      "DROP:True_Shoot%_mean_REG_dif / 0.45521282634073845\n",
      "DROP:Effect_FG%_mean_REG_dif / 0.4558249824961925\n",
      "DROP:Free_Rate_mean_REG_dif / 0.4543234049186399\n",
      "DROP:OR%_mean_REG_dif / 0.4557111775661694\n",
      "DROP:DR%_mean_REG_dif / 0.45612237289582125\n",
      "DROP:TR%_mean_REG_dif / 0.45624371317507384\n",
      "DROP:l14d_win_rate_dif / 0.45426663064467043\n",
      "BEST_RESULT : 0.45394228918933455 / DROP_COL : Op_PIE_mean_REG_dif\n",
      "itr8 / num:17 / st_score:0.45394228918933455\n",
      "DROP:Seed_dif / 0.5297133606455292\n",
      "DROP:Score_mean_REG_dif / 0.45367787295529843\n",
      "DROP:Op_Score_mean_REG_dif / 0.45412351783323696\n",
      "DROP:PointDiff_mean_REG_dif / 0.4538467047795951\n",
      "DROP:win_rate_REG_dif / 0.46388502031580353\n",
      "DROP:Posses_mean_REG_dif / 0.4540304849730983\n",
      "DROP:Offens_Rate_mean_REG_dif / 0.4541857766339077\n",
      "DROP:Defens_Rate_mean_REG_dif / 0.45390121588035487\n",
      "DROP:Str_Schedule_mean_REG_dif / 0.45392392470257764\n",
      "DROP:TIE_mean_REG_dif / 0.45207102732669524\n",
      "DROP:True_Shoot%_mean_REG_dif / 0.4526097176571457\n",
      "DROP:Effect_FG%_mean_REG_dif / 0.4532234993400697\n",
      "DROP:Free_Rate_mean_REG_dif / 0.4507599024635765\n",
      "DROP:OR%_mean_REG_dif / 0.4532546126180402\n",
      "DROP:DR%_mean_REG_dif / 0.4535494921220267\n",
      "DROP:TR%_mean_REG_dif / 0.45371275282858126\n",
      "DROP:l14d_win_rate_dif / 0.4516438996909795\n",
      "BEST_RESULT : 0.4507599024635765 / DROP_COL : Free_Rate_mean_REG_dif\n",
      "itr9 / num:16 / st_score:0.4507599024635765\n",
      "DROP:Seed_dif / 0.5264888369288937\n",
      "DROP:Score_mean_REG_dif / 0.45051188799185377\n",
      "DROP:Op_Score_mean_REG_dif / 0.45094594628019424\n",
      "DROP:PointDiff_mean_REG_dif / 0.45066745839769107\n",
      "DROP:win_rate_REG_dif / 0.4598006457034478\n",
      "DROP:Posses_mean_REG_dif / 0.4508798514166283\n",
      "DROP:Offens_Rate_mean_REG_dif / 0.45094218404263975\n",
      "DROP:Defens_Rate_mean_REG_dif / 0.4507245772320906\n",
      "DROP:Str_Schedule_mean_REG_dif / 0.4507341419557146\n",
      "DROP:TIE_mean_REG_dif / 0.4492238994408732\n",
      "DROP:True_Shoot%_mean_REG_dif / 0.44844297577874404\n",
      "DROP:Effect_FG%_mean_REG_dif / 0.45001699710713017\n",
      "DROP:OR%_mean_REG_dif / 0.4501692416988669\n",
      "DROP:DR%_mean_REG_dif / 0.4503053963106688\n",
      "DROP:TR%_mean_REG_dif / 0.4505386924317022\n",
      "DROP:l14d_win_rate_dif / 0.448968201064862\n",
      "BEST_RESULT : 0.44844297577874404 / DROP_COL : True_Shoot%_mean_REG_dif\n",
      "itr10 / num:15 / st_score:0.44844297577874404\n",
      "DROP:Seed_dif / 0.525459349002352\n",
      "DROP:Score_mean_REG_dif / 0.4481480154656677\n",
      "DROP:Op_Score_mean_REG_dif / 0.44865342099511313\n",
      "DROP:PointDiff_mean_REG_dif / 0.44831056710512596\n",
      "DROP:win_rate_REG_dif / 0.45761845131007317\n",
      "DROP:Posses_mean_REG_dif / 0.4485666452607374\n",
      "DROP:Offens_Rate_mean_REG_dif / 0.44872019281148556\n",
      "DROP:Defens_Rate_mean_REG_dif / 0.4484150498416897\n",
      "DROP:Str_Schedule_mean_REG_dif / 0.44844260897250343\n",
      "DROP:TIE_mean_REG_dif / 0.4466107604840137\n",
      "DROP:Effect_FG%_mean_REG_dif / 0.448566266854492\n",
      "DROP:OR%_mean_REG_dif / 0.44769042721017827\n",
      "DROP:DR%_mean_REG_dif / 0.4480661442703431\n",
      "DROP:TR%_mean_REG_dif / 0.4482558940003139\n",
      "DROP:l14d_win_rate_dif / 0.44668887705309945\n",
      "BEST_RESULT : 0.4466107604840137 / DROP_COL : TIE_mean_REG_dif\n",
      "itr11 / num:14 / st_score:0.4466107604840137\n",
      "DROP:Seed_dif / 0.5233602835210929\n",
      "DROP:Score_mean_REG_dif / 0.4462942425188959\n",
      "DROP:Op_Score_mean_REG_dif / 0.44687593185784863\n",
      "DROP:PointDiff_mean_REG_dif / 0.44647336409644967\n",
      "DROP:win_rate_REG_dif / 0.45509101998764434\n",
      "DROP:Posses_mean_REG_dif / 0.4467310012522132\n",
      "DROP:Offens_Rate_mean_REG_dif / 0.44686117749722637\n",
      "DROP:Defens_Rate_mean_REG_dif / 0.44650578238884703\n",
      "DROP:Str_Schedule_mean_REG_dif / 0.44655914174900735\n",
      "DROP:Effect_FG%_mean_REG_dif / 0.4467011410936634\n",
      "DROP:OR%_mean_REG_dif / 0.4460443792723887\n",
      "DROP:DR%_mean_REG_dif / 0.44616301712777107\n",
      "DROP:TR%_mean_REG_dif / 0.4464505785761182\n",
      "DROP:l14d_win_rate_dif / 0.44494757595682083\n",
      "BEST_RESULT : 0.44494757595682083 / DROP_COL : l14d_win_rate_dif\n",
      "itr12 / num:13 / st_score:0.44494757595682083\n",
      "DROP:Seed_dif / 0.5348924524469615\n",
      "DROP:Score_mean_REG_dif / 0.4446556926501627\n",
      "DROP:Op_Score_mean_REG_dif / 0.44521014172677936\n",
      "DROP:PointDiff_mean_REG_dif / 0.4448305122143658\n",
      "DROP:win_rate_REG_dif / 0.4551803632711137\n",
      "DROP:Posses_mean_REG_dif / 0.4450605055819627\n",
      "DROP:Offens_Rate_mean_REG_dif / 0.44519057232377784\n",
      "DROP:Defens_Rate_mean_REG_dif / 0.4448507690993224\n",
      "DROP:Str_Schedule_mean_REG_dif / 0.4448987632769736\n",
      "DROP:Effect_FG%_mean_REG_dif / 0.44499052521712146\n",
      "DROP:OR%_mean_REG_dif / 0.44436759987273067\n",
      "DROP:DR%_mean_REG_dif / 0.4444925252964359\n",
      "DROP:TR%_mean_REG_dif / 0.44479507539150687\n",
      "BEST_RESULT : 0.44436759987273067 / DROP_COL : OR%_mean_REG_dif\n",
      "itr13 / num:12 / st_score:0.44436759987273067\n",
      "DROP:Seed_dif / 0.5352935424687401\n",
      "DROP:Score_mean_REG_dif / 0.4440859662017803\n",
      "DROP:Op_Score_mean_REG_dif / 0.4446386938716181\n",
      "DROP:PointDiff_mean_REG_dif / 0.44426202487091165\n",
      "DROP:win_rate_REG_dif / 0.4546340638943215\n",
      "DROP:Posses_mean_REG_dif / 0.4444872714737271\n",
      "DROP:Offens_Rate_mean_REG_dif / 0.44459799247532134\n",
      "DROP:Defens_Rate_mean_REG_dif / 0.44427680871998954\n",
      "DROP:Str_Schedule_mean_REG_dif / 0.44431907088126216\n",
      "DROP:Effect_FG%_mean_REG_dif / 0.4443356780943165\n",
      "DROP:DR%_mean_REG_dif / 0.44562703019293876\n",
      "DROP:TR%_mean_REG_dif / 0.44425138446632484\n",
      "BEST_RESULT : 0.4440859662017803 / DROP_COL : Score_mean_REG_dif\n",
      "itr14 / num:11 / st_score:0.4440859662017803\n",
      "DROP:Seed_dif / 0.5351279127427349\n",
      "DROP:Op_Score_mean_REG_dif / 0.44434459191406117\n",
      "DROP:PointDiff_mean_REG_dif / 0.443862141838481\n",
      "DROP:win_rate_REG_dif / 0.45447245179848955\n",
      "DROP:Posses_mean_REG_dif / 0.4444263181901777\n",
      "DROP:Offens_Rate_mean_REG_dif / 0.4443587511102719\n",
      "DROP:Defens_Rate_mean_REG_dif / 0.44402869663492006\n",
      "DROP:Str_Schedule_mean_REG_dif / 0.4439805762869665\n",
      "DROP:Effect_FG%_mean_REG_dif / 0.4439379979690065\n",
      "DROP:DR%_mean_REG_dif / 0.44531745922396637\n",
      "DROP:TR%_mean_REG_dif / 0.44396587541692456\n",
      "BEST_RESULT : 0.443862141838481 / DROP_COL : PointDiff_mean_REG_dif\n",
      "itr15 / num:10 / st_score:0.443862141838481\n",
      "DROP:Seed_dif / 0.5366925712016591\n",
      "DROP:Op_Score_mean_REG_dif / 0.4442743576678916\n",
      "DROP:win_rate_REG_dif / 0.4544918069316389\n",
      "DROP:Posses_mean_REG_dif / 0.4444726457952014\n",
      "DROP:Offens_Rate_mean_REG_dif / 0.44470034599252484\n",
      "DROP:Defens_Rate_mean_REG_dif / 0.44363098568513276\n",
      "DROP:Str_Schedule_mean_REG_dif / 0.4437533714044363\n",
      "DROP:Effect_FG%_mean_REG_dif / 0.44349182767363976\n",
      "DROP:DR%_mean_REG_dif / 0.4449870241296777\n",
      "DROP:TR%_mean_REG_dif / 0.4437016424828669\n",
      "BEST_RESULT : 0.44349182767363976 / DROP_COL : Effect_FG%_mean_REG_dif\n",
      "itr16 / num:9 / st_score:0.44349182767363976\n",
      "DROP:Seed_dif / 0.5394904139597947\n",
      "DROP:Op_Score_mean_REG_dif / 0.44393919301904633\n",
      "DROP:win_rate_REG_dif / 0.45383639011717825\n",
      "DROP:Posses_mean_REG_dif / 0.4441118849273647\n",
      "DROP:Offens_Rate_mean_REG_dif / 0.44298735557438557\n",
      "DROP:Defens_Rate_mean_REG_dif / 0.44327434744442984\n",
      "DROP:Str_Schedule_mean_REG_dif / 0.44307021381802675\n",
      "DROP:DR%_mean_REG_dif / 0.44380550029567517\n",
      "DROP:TR%_mean_REG_dif / 0.44227196654017054\n",
      "BEST_RESULT : 0.44227196654017054 / DROP_COL : TR%_mean_REG_dif\n",
      "itr17 / num:8 / st_score:0.44227196654017054\n",
      "DROP:Seed_dif / 0.5375452798184117\n",
      "DROP:Op_Score_mean_REG_dif / 0.44266880651038343\n",
      "DROP:win_rate_REG_dif / 0.45207779696122463\n",
      "DROP:Posses_mean_REG_dif / 0.44282505673698663\n",
      "DROP:Offens_Rate_mean_REG_dif / 0.44172595723303903\n",
      "DROP:Defens_Rate_mean_REG_dif / 0.44206769067205687\n",
      "DROP:Str_Schedule_mean_REG_dif / 0.4418666275090714\n",
      "DROP:DR%_mean_REG_dif / 0.4406675555036116\n",
      "BEST_RESULT : 0.4406675555036116 / DROP_COL : DR%_mean_REG_dif\n",
      "itr18 / num:7 / st_score:0.4406675555036116\n",
      "DROP:Seed_dif / 0.5413070551818628\n",
      "DROP:Op_Score_mean_REG_dif / 0.44110786219513853\n",
      "DROP:win_rate_REG_dif / 0.45065788155032016\n",
      "DROP:Posses_mean_REG_dif / 0.4411259858535136\n",
      "DROP:Offens_Rate_mean_REG_dif / 0.44010432349702683\n",
      "DROP:Defens_Rate_mean_REG_dif / 0.44047297112557876\n",
      "DROP:Str_Schedule_mean_REG_dif / 0.44025302038765696\n",
      "BEST_RESULT : 0.44010432349702683 / DROP_COL : Offens_Rate_mean_REG_dif\n",
      "itr19 / num:6 / st_score:0.44010432349702683\n",
      "DROP:Seed_dif / 0.5424885433360043\n",
      "DROP:Op_Score_mean_REG_dif / 0.44022529244862557\n",
      "DROP:win_rate_REG_dif / 0.4505653253362201\n",
      "DROP:Posses_mean_REG_dif / 0.4403251157180898\n",
      "DROP:Defens_Rate_mean_REG_dif / 0.44042117342952847\n",
      "DROP:Str_Schedule_mean_REG_dif / 0.45787658177987206\n",
      "★☆★☆★☆★☆★☆★☆★☆★☆★☆★☆★☆★☆★☆★☆★☆★☆★☆★☆★☆★☆\n",
      "[STEPWISE_RESULT]\n",
      "col_num : 24 → 6\n",
      "score : 0.4777654944236924 → 0.44010432349702683\n",
      "\n",
      "[select_features]\n",
      "Seed_dif\n",
      "Op_Score_mean_REG_dif\n",
      "win_rate_REG_dif\n",
      "Posses_mean_REG_dif\n",
      "Defens_Rate_mean_REG_dif\n",
      "Str_Schedule_mean_REG_dif\n"
     ]
    }
   ],
   "source": [
    "# stepwiseでの変数選択\n",
    "select_features = features.copy()\n",
    "start_score = fit_eval(features)\n",
    "start_col_num = len(features)\n",
    "\n",
    "for i in range(len(features)):\n",
    "    best_score = fit_eval(select_features)\n",
    "    print('itr' + str(i+1) + ' / num:' + str(len(select_features)) + ' / st_score:' + str(best_score))\n",
    "    drop_col = 'None'\n",
    "    for c in select_features:\n",
    "        tmp_features = select_features.copy()\n",
    "        tmp_features.remove(c)\n",
    "        res = fit_eval(tmp_features)\n",
    "        print(f'DROP:{c} / {res}')\n",
    "        if res < best_score:\n",
    "            best_score = res\n",
    "            drop_col = c\n",
    "    if drop_col == 'None' : \n",
    "        break\n",
    "    else:\n",
    "        print(f'BEST_RESULT : {best_score} / DROP_COL : {drop_col}')\n",
    "        select_features.remove(drop_col)\n",
    "print('★☆'*20)\n",
    "print('[STEPWISE_RESULT]')\n",
    "print(f'col_num : {str(start_col_num)} → {str(len(select_features))}')\n",
    "print(f'score : {str(start_score)} → {str(best_score)}')\n",
    "print('\\n[select_features]')\n",
    "for c in select_features:\n",
    "    print(c)"
   ]
  },
  {
   "cell_type": "code",
   "execution_count": 24,
   "metadata": {},
   "outputs": [
    {
     "name": "stdout",
     "output_type": "stream",
     "text": [
      "[SEASON:2015]\n",
      "logloss = 0.3680170705219813\n",
      "[SEASON:2016]\n",
      "logloss = 0.4760958671718741\n",
      "[SEASON:2017]\n",
      "logloss = 0.46403026309286416\n",
      "[SEASON:2018]\n",
      "logloss = 0.5081588805198399\n",
      "[SEASON:2019]\n",
      "logloss = 0.38421953617857446\n",
      "[total]\n",
      "logloss = 0.44010432349702683\n"
     ]
    }
   ],
   "source": [
    "eval_seasons = np.arange(2015,2020,1)\n",
    "eval_df_all = pd.DataFrame()\n",
    "#feature_importances = pd.DataFrame()\n",
    "#feature_importances['feature'] = features\n",
    "\n",
    "for eval_s in eval_seasons:\n",
    "    eval_df = train[train['Season'] == eval_s].copy()\n",
    "    train_df = train[train['Season'] != eval_s].copy()\n",
    "\n",
    "    model = LogisticRegression()\n",
    "    model.fit(train_df[select_features],train_df[target])\n",
    "    \n",
    "    eval_df['pred'] = model.predict_proba(eval_df[select_features])[:,1]\n",
    "    res = log_loss(eval_df[target], eval_df['pred'])\n",
    "    print(f'[SEASON:{str(eval_s)}]')\n",
    "    print(f'logloss = {res}')\n",
    "    eval_df_all = eval_df_all.append(eval_df)\n",
    "    \n",
    "total = log_loss(eval_df_all[target], eval_df_all['pred'])\n",
    "\n",
    "print('[total]')\n",
    "print(f'logloss = {total}')"
   ]
  },
  {
   "cell_type": "code",
   "execution_count": 25,
   "metadata": {},
   "outputs": [
    {
     "data": {
      "text/plain": [
       "<AxesSubplot:>"
      ]
     },
     "execution_count": 25,
     "metadata": {},
     "output_type": "execute_result"
    },
    {
     "data": {
      "image/png": "[encoded data removed]",
      "text/plain": [
       "<Figure size 432x288 with 1 Axes>"
      ]
     },
     "metadata": {},
     "output_type": "display_data"
    }
   ],
   "source": [
    "eval_df_all['pred'].hist()"
   ]
  },
  {
   "cell_type": "code",
   "execution_count": 26,
   "metadata": {},
   "outputs": [
    {
     "name": "stdout",
     "output_type": "stream",
     "text": [
      "      s2015     s2016    s2017     s2018    s2019     total\n",
      "0  0.368017  0.476096  0.46403  0.508159  0.38422  0.440104\n"
     ]
    }
   ],
   "source": [
    "show_eval_results(eval_df_all)"
   ]
  },
  {
   "cell_type": "code",
   "execution_count": 27,
   "metadata": {},
   "outputs": [
    {
     "name": "stdout",
     "output_type": "stream",
     "text": [
      "th:0.01\n",
      "     s2015    s2016     s2017     s2018     s2019     total\n",
      "0  0.36817  0.47628  0.464267  0.508413  0.384448  0.440316\n",
      "\n",
      "th:0.02\n",
      "      s2015     s2016     s2017     s2018     s2019    total\n",
      "0  0.368902  0.476752  0.465121  0.509082  0.385091  0.44099\n",
      "\n",
      "th:0.03\n",
      "      s2015     s2016     s2017     s2018     s2019    total\n",
      "0  0.370114  0.477535  0.466825  0.510497  0.386327  0.44226\n",
      "\n",
      "th:0.04\n",
      "      s2015     s2016     s2017     s2018     s2019     total\n",
      "0  0.371664  0.479046  0.468929  0.512299  0.387833  0.443954\n",
      "\n",
      "th:0.05\n",
      "      s2015     s2016     s2017     s2018    s2019     total\n",
      "0  0.373497  0.481372  0.471249  0.514294  0.38972  0.446026\n",
      "\n",
      "th:0.06\n",
      "     s2015     s2016     s2017     s2018     s2019     total\n",
      "0  0.37552  0.484087  0.473894  0.516425  0.392277  0.448441\n",
      "\n",
      "th:0.07\n",
      "      s2015     s2016     s2017     s2018     s2019     total\n",
      "0  0.377738  0.487296  0.476054  0.518664  0.394993  0.450949\n",
      "\n",
      "th:0.08\n",
      "      s2015     s2016    s2017     s2018     s2019     total\n",
      "0  0.380296  0.490789  0.47713  0.518433  0.398144  0.452959\n",
      "\n",
      "th:0.09\n",
      "      s2015     s2016     s2017     s2018     s2019     total\n",
      "0  0.383409  0.494323  0.478384  0.518081  0.401614  0.455162\n",
      "\n",
      "th:0.1\n",
      "      s2015     s2016     s2017     s2018    s2019     total\n",
      "0  0.386867  0.496685  0.478723  0.518452  0.40411  0.456967\n",
      "\n"
     ]
    }
   ],
   "source": [
    "for th in [0.01,0.02,0.03,0.04,0.05,0.06,0.07,0.08,0.09,0.1]:\n",
    "    tmp = eval_df_all.copy()\n",
    "    tmp['pred'] = np.clip(tmp['pred'],th,1-th)\n",
    "    print('th:'+str(th))\n",
    "    show_eval_results(tmp)\n",
    "    print()"
   ]
  },
  {
   "cell_type": "markdown",
   "metadata": {},
   "source": [
    "## make_sub"
   ]
  },
  {
   "cell_type": "code",
   "execution_count": 28,
   "metadata": {},
   "outputs": [
    {
     "data": {
      "text/plain": [
       "0.428849485032899"
      ]
     },
     "execution_count": 28,
     "metadata": {},
     "output_type": "execute_result"
    }
   ],
   "source": [
    "submission = test[['ID', 'Pred']].copy()\n",
    "pred = np.zeros(test.shape[0])\n",
    "\n",
    "model = LogisticRegression()\n",
    "model.fit(train[select_features],train[target])\n",
    "pred = model.predict_proba(test[select_features])[:,1]\n",
    "\n",
    "test['Pred'] = pred\n",
    "submission['Pred'] = pred\n",
    "tmp = test.merge(tourny_data[['Season','T1_TeamID', 'T2_TeamID','win']], on=['Season','T1_TeamID', 'T2_TeamID'],how='inner')\n",
    "log_loss(tmp[target], tmp['Pred'])"
   ]
  },
  {
   "cell_type": "code",
   "execution_count": 29,
   "metadata": {},
   "outputs": [
    {
     "data": {
      "text/plain": [
       "<AxesSubplot:>"
      ]
     },
     "execution_count": 29,
     "metadata": {},
     "output_type": "execute_result"
    },
    {
     "data": {
      "image/png": "[encoded data removed]",
      "text/plain": [
       "<Figure size 432x288 with 1 Axes>"
      ]
     },
     "metadata": {},
     "output_type": "display_data"
    }
   ],
   "source": [
    "submission['Pred'].hist()"
   ]
  },
  {
   "cell_type": "code",
   "execution_count": 30,
   "metadata": {},
   "outputs": [],
   "source": [
    "submission.to_csv(OUTPUT_DIR + f'/{EXP_NAME}.csv', index=False)"
   ]
  },
  {
   "cell_type": "code",
   "execution_count": 31,
   "metadata": {},
   "outputs": [],
   "source": [
    "# 決勝の２パターン\n",
    "test_a = test.copy()\n",
    "submission_a = submission.copy()\n",
    "\n",
    "test_a.loc[(test_a['T1_Region']=='W')&(test_a['T2_Region']=='Y'), 'Pred'] = 1\n",
    "test_a.loc[(test_a['T1_Region']=='W')&(test_a['T2_Region']=='Z'), 'Pred'] = 1\n",
    "test_a.loc[(test_a['T1_Region']=='X')&(test_a['T2_Region']=='Y'), 'Pred'] = 1\n",
    "test_a.loc[(test_a['T1_Region']=='X')&(test_a['T2_Region']=='Z'), 'Pred'] = 1\n",
    "\n",
    "test_a.loc[(test_a['T2_Region']=='W')&(test_a['T1_Region']=='Y'), 'Pred'] = 0\n",
    "test_a.loc[(test_a['T2_Region']=='W')&(test_a['T1_Region']=='Z'), 'Pred'] = 0\n",
    "test_a.loc[(test_a['T2_Region']=='X')&(test_a['T1_Region']=='Y'), 'Pred'] = 0\n",
    "test_a.loc[(test_a['T2_Region']=='X')&(test_a['T1_Region']=='Z'), 'Pred'] = 0\n",
    "\n",
    "submission_a['Pred'] = test_a['Pred']\n",
    "submission_a.to_csv(OUTPUT_DIR + f'/{EXP_NAME}_a.csv', index=False)"
   ]
  },
  {
   "cell_type": "code",
   "execution_count": 32,
   "metadata": {},
   "outputs": [],
   "source": [
    "test_b = test.copy()\n",
    "submission_b = submission.copy()\n",
    "\n",
    "test_b.loc[(test_b['T1_Region']=='W')&(test_b['T2_Region']=='Y'), 'Pred'] = 0\n",
    "test_b.loc[(test_b['T1_Region']=='W')&(test_b['T2_Region']=='Z'), 'Pred'] = 0\n",
    "test_b.loc[(test_b['T1_Region']=='X')&(test_b['T2_Region']=='Y'), 'Pred'] = 0\n",
    "test_b.loc[(test_b['T1_Region']=='X')&(test_b['T2_Region']=='Z'), 'Pred'] = 0\n",
    "\n",
    "test_b.loc[(test_b['T2_Region']=='W')&(test_b['T1_Region']=='Y'), 'Pred'] = 1\n",
    "test_b.loc[(test_b['T2_Region']=='W')&(test_b['T1_Region']=='Z'), 'Pred'] = 1\n",
    "test_b.loc[(test_b['T2_Region']=='X')&(test_b['T1_Region']=='Y'), 'Pred'] = 1\n",
    "test_b.loc[(test_b['T2_Region']=='X')&(test_b['T1_Region']=='Z'), 'Pred'] = 1\n",
    "\n",
    "submission_b['Pred'] = test_b['Pred']\n",
    "submission_b.to_csv(OUTPUT_DIR + f'/{EXP_NAME}_b.csv', index=False)"
   ]
  },
  {
   "cell_type": "code",
   "execution_count": 33,
   "metadata": {},
   "outputs": [
    {
     "name": "stdout",
     "output_type": "stream",
     "text": [
      "2015 : 0.36047752169744224 | 0.35943245031873333 | 0.9076669962696966\n",
      "2016 : 0.45445995452860877 | 0.45386387454564275 | 1.002098420496606\n",
      "2017 : 0.4520720959768482 | 0.9909841830097861 | 0.4427369450361213\n",
      "2018 : 0.4952024765232737 | 0.47675166960686544 | 1.0249989075805301\n",
      "2019 : 0.3820353764383219 | 0.9180402986968547 | 0.3698057527458914\n"
     ]
    }
   ],
   "source": [
    "for s in np.arange(2015,2020,1):\n",
    "    tmp = test.merge(tourny_data[['Season','T1_TeamID', 'T2_TeamID','win']], on=['Season','T1_TeamID', 'T2_TeamID'],how='inner')\n",
    "    tmp_a = test_a.merge(tourny_data[['Season','T1_TeamID', 'T2_TeamID','win']], on=['Season','T1_TeamID', 'T2_TeamID'],how='inner')\n",
    "    tmp_b = test_b.merge(tourny_data[['Season','T1_TeamID', 'T2_TeamID','win']], on=['Season','T1_TeamID', 'T2_TeamID'],how='inner')\n",
    "    \n",
    "    tmp = tmp[tmp['Season']==s]\n",
    "    tmp_a = tmp_a[tmp_a['Season']==s]\n",
    "    tmp_b = tmp_b[tmp_b['Season']==s]\n",
    "    \n",
    "    score = log_loss(tmp[target], tmp['Pred'])\n",
    "    score_a = log_loss(tmp_a[target], tmp_a['Pred'])\n",
    "    score_b = log_loss(tmp_b[target], tmp_b['Pred'])\n",
    "    \n",
    "    print(f'{s} : {score} | {score_a} | {score_b}')"
   ]
  },
  {
   "cell_type": "code",
   "execution_count": null,
   "metadata": {},
   "outputs": [],
   "source": []
  }
 ],
 "metadata": {
  "kernelspec": {
   "display_name": "Python 3",
   "language": "python",
   "name": "python3"
  },
  "language_info": {
   "codemirror_mode": {
    "name": "ipython",
    "version": 3
   },
   "file_extension": ".py",
   "mimetype": "text/x-python",
   "name": "python",
   "nbconvert_exporter": "python",
   "pygments_lexer": "ipython3",
   "version": "3.7.9"
  }
 },
 "nbformat": 4,
 "nbformat_minor": 4
}
