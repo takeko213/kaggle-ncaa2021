{
 "cells": [
  {
   "cell_type": "markdown",
   "metadata": {},
   "source": [
    "# exp003_m_stage2\n",
    "修正後データ"
   ]
  },
  {
   "cell_type": "code",
   "execution_count": 1,
   "metadata": {},
   "outputs": [
    {
     "data": {
      "text/html": [
       "<style type='text/css'>\n",
       ".datatable table.frame { margin-bottom: 0; }\n",
       ".datatable table.frame thead { border-bottom: none; }\n",
       ".datatable table.frame tr.coltypes td {  color: #FFFFFF;  line-height: 6px;  padding: 0 0.5em;}\n",
       ".datatable .bool    { background: #DDDD99; }\n",
       ".datatable .object  { background: #565656; }\n",
       ".datatable .int     { background: #5D9E5D; }\n",
       ".datatable .float   { background: #4040CC; }\n",
       ".datatable .str     { background: #CC4040; }\n",
       ".datatable .row_index {  background: var(--jp-border-color3);  border-right: 1px solid var(--jp-border-color0);  color: var(--jp-ui-font-color3);  font-size: 9px;}\n",
       ".datatable .frame tr.coltypes .row_index {  background: var(--jp-border-color0);}\n",
       ".datatable th:nth-child(2) { padding-left: 12px; }\n",
       ".datatable .hellipsis {  color: var(--jp-cell-editor-border-color);}\n",
       ".datatable .vellipsis {  background: var(--jp-layout-color0);  color: var(--jp-cell-editor-border-color);}\n",
       ".datatable .na {  color: var(--jp-cell-editor-border-color);  font-size: 80%;}\n",
       ".datatable .footer { font-size: 9px; }\n",
       ".datatable .frame_dimensions {  background: var(--jp-border-color3);  border-top: 1px solid var(--jp-border-color0);  color: var(--jp-ui-font-color3);  display: inline-block;  opacity: 0.6;  padding: 1px 10px 1px 5px;}\n",
       "</style>\n"
      ],
      "text/plain": [
       "<IPython.core.display.HTML object>"
      ]
     },
     "metadata": {},
     "output_type": "display_data"
    }
   ],
   "source": [
    "import os\n",
    "import datetime\n",
    "import pandas as pd\n",
    "import numpy as np\n",
    "import matplotlib.pyplot as plt\n",
    "import seaborn as sns\n",
    "sns.set(style='darkgrid')\n",
    "\n",
    "from tqdm import tqdm\n",
    "from itertools import product\n",
    "\n",
    "from sklearn.linear_model import LogisticRegression\n",
    "import lightgbm as lgb\n",
    "from optuna.integration import lightgbm as lgb_tuner\n",
    "from catboost import CatBoost, FeaturesData, Pool\n",
    "\n",
    "from sklearn.metrics import mean_squared_error, log_loss\n",
    "from sklearn.preprocessing import LabelEncoder, StandardScaler\n",
    "from sklearn.model_selection import RepeatedStratifiedKFold"
   ]
  },
  {
   "cell_type": "code",
   "execution_count": 2,
   "metadata": {},
   "outputs": [],
   "source": [
    "# 設定\n",
    "EXP_NAME = 'exp003_m_stage2'\n",
    "INPUT_DIR = '../input/ncaam-march-mania-2021'\n",
    "OUTPUT_DIR = f'../output/{EXP_NAME}'"
   ]
  },
  {
   "cell_type": "code",
   "execution_count": 3,
   "metadata": {},
   "outputs": [],
   "source": [
    "# 出力フォルダ生成\n",
    "os.makedirs(OUTPUT_DIR)"
   ]
  },
  {
   "cell_type": "markdown",
   "metadata": {},
   "source": [
    "## データ読み込み"
   ]
  },
  {
   "cell_type": "code",
   "execution_count": 4,
   "metadata": {},
   "outputs": [],
   "source": [
    "tourny_results = pd.read_csv(INPUT_DIR + '/MDataFiles_Stage2/MNCAATourneyDetailedResults.csv')\n",
    "regular_results = pd.read_csv(INPUT_DIR + '/MDataFiles_Stage2/MRegularSeasonDetailedResults.csv')\n",
    "seeds = pd.read_csv(INPUT_DIR + '/MDataFiles_Stage2/MNCAATourneySeeds.csv')\n",
    "seasons = pd.read_csv(INPUT_DIR + '/MDataFiles_Stage2/MSeasons.csv')\n",
    "conf = pd.read_csv(INPUT_DIR + '/MDataFiles_Stage2/MTeamConferences.csv')\n",
    "massey = pd.read_csv(INPUT_DIR + '/MDataFiles_Stage2/MMasseyOrdinals.csv')\n",
    "kenpom = pd.read_csv(INPUT_DIR + '/MDataFiles_Stage2//NCAA2021_Kenpom.csv')"
   ]
  },
  {
   "cell_type": "code",
   "execution_count": 5,
   "metadata": {},
   "outputs": [],
   "source": [
    "test = pd.read_csv(INPUT_DIR + '/MDataFiles_Stage2/MSampleSubmissionStage2.csv')"
   ]
  },
  {
   "cell_type": "markdown",
   "metadata": {},
   "source": [
    "## 特徴量生成"
   ]
  },
  {
   "cell_type": "code",
   "execution_count": 6,
   "metadata": {},
   "outputs": [],
   "source": [
    "def prepare_data(df):\n",
    "    dfswap = df[['Season', 'DayNum', 'LTeamID', 'LScore', 'WTeamID', 'WScore', 'WLoc', 'NumOT', \n",
    "    'LFGM', 'LFGA', 'LFGM3', 'LFGA3', 'LFTM', 'LFTA', 'LOR', 'LDR', 'LAst', 'LTO', 'LStl', 'LBlk', 'LPF', \n",
    "    'WFGM', 'WFGA', 'WFGM3', 'WFGA3', 'WFTM', 'WFTA', 'WOR', 'WDR', 'WAst', 'WTO', 'WStl', 'WBlk', 'WPF']]\n",
    "\n",
    "    dfswap.loc[df['WLoc'] == 'H', 'WLoc'] = 'A'\n",
    "    dfswap.loc[df['WLoc'] == 'A', 'WLoc'] = 'H'\n",
    "    df.columns.values[6] = 'location'\n",
    "    dfswap.columns.values[6] = 'location'    \n",
    "      \n",
    "    df.columns = [x.replace('W','T1_').replace('L','T2_') for x in list(df.columns)]\n",
    "    dfswap.columns = [x.replace('L','T1_').replace('W','T2_') for x in list(dfswap.columns)]\n",
    "\n",
    "    output = pd.concat([df, dfswap]).reset_index(drop=True)\n",
    "    output.loc[output.location=='N','location'] = '0'\n",
    "    output.loc[output.location=='H','location'] = '1'\n",
    "    output.loc[output.location=='A','location'] = '-1'\n",
    "    output.location = output.location.astype(int)\n",
    "    \n",
    "    output['PointDiff'] = output['T1_Score'] - output['T2_Score']\n",
    "    \n",
    "    output['win'] = 1\n",
    "    output.loc[output['T1_Score'] < output['T2_Score'],'win'] = 0\n",
    "    \n",
    "    #stats\n",
    "    output['T1_Posses'] = 0.96*(output['T1_FGA']+output['T1_TO']+(0.475*output['T1_FTA']))-output['T1_OR']\n",
    "    output['T1_Offens_Rate'] = 100*(output['T1_Score']/output['T1_Posses'])\n",
    "    output['T1_Defens_Rate'] = 100*(output['T2_Score']/output['T1_Posses'])\n",
    "    output['T1_Str_Schedule'] = 100*(output['T1_Offens_Rate']-output['T1_Defens_Rate'])\n",
    "    output['T1_PIE'] = (output['T1_Score']+output['T1_FGM']+output['T1_FTM']-output['T1_FGA']-output['T1_FTA']+output['T1_DR']\n",
    "                        +(0.5*output['T1_OR'])+output['T1_Ast']+output['T1_Stl']+(0.5*output['T1_Blk'])-output['T1_PF']-output['T1_TO'])\n",
    "    output['T2_PIE'] = (output['T2_Score']+output['T2_FGM']+output['T2_FTM']-output['T2_FGA']-output['T2_FTA']+output['T2_DR']\n",
    "                        +(0.5*output['T2_OR'])+output['T2_Ast']+output['T2_Stl']+(0.5*output['T2_Blk'])-output['T2_PF']-output['T2_TO'])\n",
    "    \n",
    "    output['T1_TIE'] = output['T1_PIE']/(output['T1_PIE']+output['T2_PIE'])\n",
    "    output['T1_Ast_Rate'] = (100*output['T1_Ast'])/(output['T1_FGA']+(0.475*output['T1_FTA'])+output['T1_Ast']+output['T1_TO'])\n",
    "    output['T1_TO_Rate'] = (100*output['T1_TO'])/(output['T1_FGA']+(0.475*output['T1_FTA'])+output['T1_Ast']+output['T1_TO'])\n",
    "    output['T1_True_Shoot%'] = (100*output['T1_Score'])/(2*(output['T1_FGA']+(0.475+output['T1_FTA'])))\n",
    "    output['T1_Effect_FG%'] = (output['T1_FGM']+0.5*output['T1_FGM3'])/output['T1_FGA']\n",
    "    output['T1_Free_Rate'] = output['T1_FTA']/output['T1_FGA']\n",
    "    output['T1_OR%'] = output['T1_OR']/(output['T1_OR']+output['T2_OR'])\n",
    "    output['T1_DR%'] = output['T1_DR']/(output['T1_DR']+output['T2_DR'])\n",
    "    output['T1_TR%'] = (output['T1_DR']+output['T1_OR'])/(output['T1_DR']+output['T1_OR']+output['T2_DR']+output['T2_OR']) \n",
    "    \n",
    "    return output"
   ]
  },
  {
   "cell_type": "code",
   "execution_count": 7,
   "metadata": {},
   "outputs": [],
   "source": [
    "def agg_data(df, label):\n",
    "    key = ['Season', 'T1_TeamID']\n",
    "    res = df[key].drop_duplicates()\n",
    "\n",
    "\n",
    "    # 試合数\n",
    "    tmp = df.groupby(key)['DayNum'].count().reset_index()\n",
    "    tmp = tmp.rename(columns = {'DayNum':'total_game_cnt'})\n",
    "    res = res.merge(tmp, on=key, how='left')\n",
    "\n",
    "    # 平均値\n",
    "    cols = list(df.columns)\n",
    "    cols = [c for c in cols if c not in ['DayNum','location','T2_TeamID', 'win']]\n",
    "    tmp = df[cols].groupby(key).mean().reset_index()\n",
    "    tmp.columns = [c if c in key else c + '_mean_' + label  for c in cols]\n",
    "    res = res.merge(tmp, on=key, how='left')\n",
    "\n",
    "    # 勝率\n",
    "    # 全体\n",
    "    tmp = df.groupby(key)['win'].mean().reset_index()\n",
    "    tmp = tmp.rename(columns = {'win':'win_rate_' + label})\n",
    "    res = res.merge(tmp, on=key, how='left')\n",
    "    # アウェイ\n",
    "    tmp = df.loc[df['location']==-1].groupby(key)['win'].mean().reset_index()\n",
    "    tmp = tmp.rename(columns = {'win':'win_rate_a_' + label})\n",
    "    res = res.merge(tmp, on=key, how='left')\n",
    "    # ホーム\n",
    "    tmp = df.loc[df['location']==1].groupby(key)['win'].mean().reset_index()\n",
    "    tmp = tmp.rename(columns = {'win':'win_rate_h_' + label})\n",
    "    res = res.merge(tmp, on=key, how='left')\n",
    "\n",
    "    res.columns = res.columns.str.replace('T1_', '')\n",
    "    res.columns = res.columns.str.replace('T2_', 'Op_')\n",
    "    \n",
    "    return res"
   ]
  },
  {
   "cell_type": "code",
   "execution_count": 8,
   "metadata": {},
   "outputs": [],
   "source": [
    "tourny_data = prepare_data(tourny_results)\n",
    "regular_data = prepare_data(regular_results)\n",
    "\n",
    "tourny_summary = agg_data(tourny_data, 'TOUR')\n",
    "regular_summary = agg_data(regular_data, 'REG')"
   ]
  },
  {
   "cell_type": "code",
   "execution_count": 9,
   "metadata": {},
   "outputs": [],
   "source": [
    "seeds['Box'] = seeds['Seed'].apply(lambda x: x[0])\n",
    "seeds['Seed'] = seeds['Seed'].apply(lambda x: int(x[1:3]))\n",
    "\n",
    "seeds = seeds.merge(seasons, on='Season', how='left')\n",
    "\n",
    "for b in ['W', 'X', 'Y', 'Z']:\n",
    "    seeds.loc[seeds['Box']==b, 'Region'] = seeds.loc[seeds['Box']==b, 'Region'+b]\n",
    "\n",
    "seeds = seeds[['Season', 'Seed', 'TeamID', 'Region']]"
   ]
  },
  {
   "cell_type": "code",
   "execution_count": 10,
   "metadata": {},
   "outputs": [],
   "source": [
    "conf['isMeasure'] = 0\n",
    "measure_confs = ['a_ten','aac','acc','big_east','big_ten','big_twelve',\n",
    "                 'mwc','wcc','pac_ten','pac_twelve','sec']\n",
    "\n",
    "for mc in measure_confs:\n",
    "    conf.loc[conf['ConfAbbrev']==mc,'isMeasure'] = 1"
   ]
  },
  {
   "cell_type": "code",
   "execution_count": 11,
   "metadata": {},
   "outputs": [],
   "source": [
    "regular_tour = pd.concat([tourny_data[['Season','T1_TeamID','T2_TeamID','win']],regular_data[['Season','T1_TeamID','T2_TeamID','win']]])\n",
    "overall_history = pd.DataFrame()\n",
    "\n",
    "for s in regular_tour['Season'].unique():\n",
    "    tmp = regular_tour[regular_tour['Season']!=s]\n",
    "    tmp = tmp.groupby(['T1_TeamID','T2_TeamID'])['win'].mean().reset_index()\n",
    "    tmp['Season'] = s\n",
    "    tmp = tmp.rename(columns={'win':'win_rate_overall'})\n",
    "    overall_history = overall_history.append(tmp)"
   ]
  },
  {
   "cell_type": "code",
   "execution_count": 12,
   "metadata": {},
   "outputs": [],
   "source": [
    "last14d = regular_data[regular_data['DayNum']>118]\n",
    "last14d = last14d.groupby(['Season','T1_TeamID'])['win'].mean().reset_index()\n",
    "last14d = last14d.rename(columns={'win':'l14d_win_rate','T1_TeamID':'TeamID'})"
   ]
  },
  {
   "cell_type": "code",
   "execution_count": 13,
   "metadata": {},
   "outputs": [],
   "source": [
    "massey_agg = massey[massey['RankingDayNum']==133].groupby(['Season','TeamID'])['OrdinalRank'].mean().reset_index()"
   ]
  },
  {
   "cell_type": "code",
   "execution_count": 14,
   "metadata": {},
   "outputs": [],
   "source": [
    "kenpom = kenpom[['Season', 'TeamID', 'rank', 'adj_em', 'adj_o', 'adj_o_rank',\n",
    "       'adj_d', 'adj_d_rank', 'adj_tempo', 'adj_tempo_rank', 'luck',\n",
    "       'luck_rank', 'sos_adj_em', 'sos_adj_em_rank', 'sos_adj_o',\n",
    "       'sos_adj_o_rank', 'sos_adj_d', 'sos_adj_d_rank', 'nc_sos_adj_em',\n",
    "       'nc_sos_adj_em_rank']]\n",
    "\n",
    "kenpom.columns = ['Season', 'TeamID', 'kenpom_rank', 'kenpom_adj_em', 'kenpom_adj_o', 'kenpom_adj_o_rank',\n",
    "       'kenpom_adj_d', 'kenpom_adj_d_rank', 'kenpom_adj_tempo', 'kenpom_adj_tempo_rank', 'kenpom_luck',\n",
    "       'kenpom_luck_rank', 'kenpom_sos_adj_em', 'kenpom_sos_adj_em_rank', 'kenpom_sos_adj_o',\n",
    "       'kenpom_sos_adj_o_rank', 'kenpom_sos_adj_d', 'kenpom_sos_adj_d_rank', 'kenpom_nc_sos_adj_em',\n",
    "       'kenpom_nc_sos_adj_em_rank']"
   ]
  },
  {
   "cell_type": "markdown",
   "metadata": {},
   "source": [
    "## train,test生成"
   ]
  },
  {
   "cell_type": "code",
   "execution_count": 15,
   "metadata": {},
   "outputs": [],
   "source": [
    "def merge_data(df,merge_df,col):\n",
    "    df = df.merge(merge_df[['Season','TeamID', col]],left_on=['Season','T1_TeamID'],right_on=['Season','TeamID'],how='left')\n",
    "    df = df.rename(columns={col:'T1_' + col})\n",
    "    del df['TeamID']\n",
    "\n",
    "    df = df.merge(merge_df[['Season','TeamID', col]],left_on=['Season','T2_TeamID'],right_on=['Season','TeamID'],how='left')\n",
    "    df = df.rename(columns={col:'T2_' + col})\n",
    "    del df['TeamID']\n",
    "    \n",
    "    return df"
   ]
  },
  {
   "cell_type": "code",
   "execution_count": 16,
   "metadata": {},
   "outputs": [],
   "source": [
    "def process_train_test_data(df):\n",
    "    df = merge_data(df, seeds, 'Seed')\n",
    "    df['Seed_dif'] = df['T1_Seed'] - df['T2_Seed']\n",
    "    \n",
    "    df = merge_data(df, seeds, 'Region')\n",
    "    df['Seed_dif'] = df['T1_Seed'] - df['T2_Seed']\n",
    "    \n",
    "    df = merge_data(df, conf, 'isMeasure')\n",
    "    \n",
    "    items = ['Score_mean_REG','Op_Score_mean_REG','PointDiff_mean_REG',\n",
    "             'win_rate_REG', 'win_rate_a_REG','win_rate_h_REG',\n",
    "             'Posses_mean_REG', 'Offens_Rate_mean_REG',\n",
    "             'Defens_Rate_mean_REG', 'Str_Schedule_mean_REG', 'PIE_mean_REG',\n",
    "             'Op_PIE_mean_REG', 'TIE_mean_REG', 'Ast_Rate_mean_REG',\n",
    "             'TO_Rate_mean_REG', 'True_Shoot%_mean_REG', 'Effect_FG%_mean_REG',\n",
    "             'Free_Rate_mean_REG', 'OR%_mean_REG', 'DR%_mean_REG', 'TR%_mean_REG']\n",
    "    for item in items:\n",
    "        df = merge_data(df, regular_summary, item)\n",
    "        df[item + '_dif'] = df['T1_' + item] - df['T2_' + item]\n",
    "        del df['T1_' + item]\n",
    "        del df['T2_' + item]\n",
    "        \n",
    "    df = df.merge(overall_history,on=['T1_TeamID','T2_TeamID','Season'],how='left')\n",
    "    df['win_rate_overall'] = df['win_rate_overall'].fillna(-1)\n",
    "    df = merge_data(df, last14d, 'l14d_win_rate')\n",
    "    df['l14d_win_rate_dif'] = df['T1_l14d_win_rate'] - df['T2_l14d_win_rate']\n",
    "    del df['T1_l14d_win_rate']\n",
    "    del df['T2_l14d_win_rate']\n",
    "    \n",
    "    df = merge_data(df, massey_agg, 'OrdinalRank')\n",
    "    df['OrdinalRank_dif'] = df['T1_OrdinalRank'] - df['T2_OrdinalRank']\n",
    "    del df['T1_OrdinalRank']\n",
    "    del df['T2_OrdinalRank']\n",
    "    \n",
    "    items = ['kenpom_rank', 'kenpom_adj_em', 'kenpom_adj_o', 'kenpom_adj_o_rank',\n",
    "   'kenpom_adj_d', 'kenpom_adj_d_rank', 'kenpom_adj_tempo', 'kenpom_adj_tempo_rank', 'kenpom_luck',\n",
    "   'kenpom_luck_rank', 'kenpom_sos_adj_em', 'kenpom_sos_adj_em_rank', 'kenpom_sos_adj_o',\n",
    "   'kenpom_sos_adj_o_rank', 'kenpom_sos_adj_d', 'kenpom_sos_adj_d_rank', 'kenpom_nc_sos_adj_em',\n",
    "   'kenpom_nc_sos_adj_em_rank']\n",
    "    \n",
    "    for item in items:\n",
    "        df = merge_data(df, kenpom, item)\n",
    "        df[item + '_dif'] = df['T1_' + item] - df['T2_' + item]\n",
    "        del df['T1_' + item]\n",
    "        del df['T2_' + item]\n",
    "    \n",
    "    return df"
   ]
  },
  {
   "cell_type": "code",
   "execution_count": 17,
   "metadata": {},
   "outputs": [],
   "source": [
    "train = tourny_data[['Season','T1_TeamID', 'T2_TeamID', 'win']].copy()\n",
    "train = train[train['T1_TeamID']<train['T2_TeamID']]\n",
    "train = process_train_test_data(train)"
   ]
  },
  {
   "cell_type": "code",
   "execution_count": 18,
   "metadata": {},
   "outputs": [],
   "source": [
    "features = [c for c in train.columns if c not in ['Season','win','T1_TeamID','T2_TeamID','T1_Seed','T2_Seed', 'T1_Region', 'T2_Region']]\n",
    "target = 'win'"
   ]
  },
  {
   "cell_type": "code",
   "execution_count": 19,
   "metadata": {},
   "outputs": [],
   "source": [
    "test['Season'] = test['ID'].apply(lambda x: int(x.split('_')[0]))\n",
    "test['T1_TeamID'] = test['ID'].apply(lambda x: int(x.split('_')[1]))\n",
    "test['T2_TeamID'] = test['ID'].apply(lambda x: int(x.split('_')[2]))\n",
    "\n",
    "test = process_train_test_data(test)"
   ]
  },
  {
   "cell_type": "code",
   "execution_count": 20,
   "metadata": {},
   "outputs": [],
   "source": [
    "sc = StandardScaler()\n",
    "train[features] = sc.fit_transform(train[features])\n",
    "test[features] = sc.transform(test[features])"
   ]
  },
  {
   "cell_type": "markdown",
   "metadata": {},
   "source": [
    "## 学習"
   ]
  },
  {
   "cell_type": "code",
   "execution_count": 21,
   "metadata": {},
   "outputs": [],
   "source": [
    "def show_eval_results(df):\n",
    "    eval_summary = pd.DataFrame()\n",
    "    means = []\n",
    "    for eval_s in eval_seasons:\n",
    "        df_s = df[df['Season']==eval_s]\n",
    "        res = log_loss(df_s[target], df_s['pred'])\n",
    "        eval_summary.loc[0,'s'+str(eval_s)] = res\n",
    "\n",
    "    total = log_loss(df[target], df['pred'])\n",
    "    eval_summary.loc[0,'total'] = total\n",
    "    print(eval_summary)"
   ]
  },
  {
   "cell_type": "code",
   "execution_count": 22,
   "metadata": {},
   "outputs": [],
   "source": [
    "def fit_eval(cols):\n",
    "    eval_seasons = np.arange(2015,2020,1)\n",
    "    eval_df_all = pd.DataFrame()\n",
    "    #feature_importances = pd.DataFrame()\n",
    "    #feature_importances['feature'] = features\n",
    "\n",
    "    for eval_s in eval_seasons:\n",
    "        eval_df = train[train['Season'] == eval_s].copy()\n",
    "        train_df = train[train['Season'] != eval_s].copy()\n",
    "\n",
    "        model = LogisticRegression(max_iter=1000)\n",
    "        model.fit(train_df[cols],train_df[target])\n",
    "\n",
    "        eval_df['pred'] = model.predict_proba(eval_df[cols])[:,1]\n",
    "        res = log_loss(eval_df[target], eval_df['pred'])\n",
    "        eval_df_all = eval_df_all.append(eval_df)\n",
    "\n",
    "    total = log_loss(eval_df_all[target], eval_df_all['pred'])\n",
    "    \n",
    "    return total"
   ]
  },
  {
   "cell_type": "code",
   "execution_count": 23,
   "metadata": {},
   "outputs": [],
   "source": [
    "select_features = [\n",
    "    'Seed_dif',\n",
    "    'T1_isMeasure',\n",
    "    'T2_isMeasure',\n",
    "    'PointDiff_mean_REG_dif',\n",
    "    'win_rate_REG_dif',\n",
    "    'Op_PIE_mean_REG_dif',\n",
    "    'Ast_Rate_mean_REG_dif',\n",
    "    'True_Shoot%_mean_REG_dif',\n",
    "    'Free_Rate_mean_REG_dif',\n",
    "    'OR%_mean_REG_dif',\n",
    "    'DR%_mean_REG_dif',\n",
    "    'TR%_mean_REG_dif',\n",
    "    'kenpom_adj_em_dif',\n",
    "    'kenpom_adj_o_dif',\n",
    "    'kenpom_adj_o_rank_dif',\n",
    "    'kenpom_adj_tempo_dif',\n",
    "    'kenpom_adj_tempo_rank_dif',\n",
    "    'kenpom_luck_dif',\n",
    "    'kenpom_sos_adj_o_dif',\n",
    "    'kenpom_sos_adj_o_rank_dif',\n",
    "    'kenpom_sos_adj_d_dif',\n",
    "    'kenpom_nc_sos_adj_em_dif'\n",
    "]"
   ]
  },
  {
   "cell_type": "code",
   "execution_count": 24,
   "metadata": {},
   "outputs": [
    {
     "name": "stdout",
     "output_type": "stream",
     "text": [
      "[SEASON:2015]\n",
      "logloss = 0.4001052325013008\n",
      "[SEASON:2016]\n",
      "logloss = 0.5018646573944013\n",
      "[SEASON:2017]\n",
      "logloss = 0.4727271314385811\n",
      "[SEASON:2018]\n",
      "logloss = 0.4113094553518226\n",
      "[SEASON:2019]\n",
      "logloss = 0.285011125350033\n",
      "[total]\n",
      "logloss = 0.4142035204072278\n"
     ]
    }
   ],
   "source": [
    "eval_seasons = np.arange(2015,2020,1)\n",
    "eval_df_all = pd.DataFrame()\n",
    "#feature_importances = pd.DataFrame()\n",
    "#feature_importances['feature'] = features\n",
    "\n",
    "for eval_s in eval_seasons:\n",
    "    eval_df = train[train['Season'] == eval_s].copy()\n",
    "    train_df = train[train['Season'] != eval_s].copy()\n",
    "\n",
    "    model = LogisticRegression()\n",
    "    model.fit(train_df[select_features],train_df[target])\n",
    "    \n",
    "    eval_df['pred'] = model.predict_proba(eval_df[select_features])[:,1]\n",
    "    res = log_loss(eval_df[target], eval_df['pred'])\n",
    "    print(f'[SEASON:{str(eval_s)}]')\n",
    "    print(f'logloss = {res}')\n",
    "    eval_df_all = eval_df_all.append(eval_df)\n",
    "    \n",
    "total = log_loss(eval_df_all[target], eval_df_all['pred'])\n",
    "\n",
    "print('[total]')\n",
    "print(f'logloss = {total}')"
   ]
  },
  {
   "cell_type": "code",
   "execution_count": 25,
   "metadata": {},
   "outputs": [
    {
     "data": {
      "text/plain": [
       "<AxesSubplot:>"
      ]
     },
     "execution_count": 25,
     "metadata": {},
     "output_type": "execute_result"
    },
    {
     "data": {
      "image/png": "[encoded data removed]",
      "text/plain": [
       "<Figure size 432x288 with 1 Axes>"
      ]
     },
     "metadata": {},
     "output_type": "display_data"
    }
   ],
   "source": [
    "eval_df_all['pred'].hist()"
   ]
  },
  {
   "cell_type": "code",
   "execution_count": 26,
   "metadata": {},
   "outputs": [
    {
     "name": "stdout",
     "output_type": "stream",
     "text": [
      "      s2015     s2016     s2017     s2018     s2019     total\n",
      "0  0.400105  0.501865  0.472727  0.411309  0.285011  0.414204\n"
     ]
    }
   ],
   "source": [
    "show_eval_results(eval_df_all)"
   ]
  },
  {
   "cell_type": "code",
   "execution_count": 27,
   "metadata": {},
   "outputs": [
    {
     "name": "stdout",
     "output_type": "stream",
     "text": [
      "th:0.01\n",
      "      s2015     s2016     s2017     s2018     s2019     total\n",
      "0  0.401154  0.424087  0.403352  0.411641  0.285906  0.385228\n",
      "\n",
      "th:0.02\n",
      "      s2015     s2016     s2017     s2018     s2019     total\n",
      "0  0.402697  0.415312  0.394658  0.408983  0.287663  0.381863\n",
      "\n",
      "th:0.03\n",
      "     s2015     s2016     s2017     s2018     s2019     total\n",
      "0  0.40452  0.410974  0.390722  0.404146  0.289797  0.380032\n",
      "\n",
      "th:0.04\n",
      "     s2015     s2016     s2017    s2018     s2019     total\n",
      "0  0.40726  0.408536  0.388936  0.40142  0.292406  0.379712\n",
      "\n",
      "th:0.05\n",
      "     s2015     s2016     s2017     s2018     s2019     total\n",
      "0  0.41073  0.407155  0.388581  0.400136  0.295142  0.380349\n",
      "\n",
      "th:0.06\n",
      "     s2015     s2016     s2017     s2018     s2019     total\n",
      "0  0.41326  0.406487  0.389286  0.399941  0.298087  0.381412\n",
      "\n",
      "th:0.07\n",
      "      s2015     s2016     s2017    s2018     s2019     total\n",
      "0  0.414252  0.406394  0.390657  0.40054  0.301275  0.382623\n",
      "\n",
      "th:0.08\n",
      "      s2015    s2016     s2017     s2018     s2019    total\n",
      "0  0.414302  0.40697  0.392416  0.401944  0.304715  0.38407\n",
      "\n",
      "th:0.09\n",
      "      s2015     s2016     s2017     s2018     s2019     total\n",
      "0  0.415191  0.407965  0.394736  0.404026  0.308457  0.386075\n",
      "\n",
      "th:0.1\n",
      "      s2015     s2016     s2017     s2018     s2019     total\n",
      "0  0.416602  0.409549  0.397575  0.405619  0.312497  0.388368\n",
      "\n"
     ]
    }
   ],
   "source": [
    "for th in [0.01,0.02,0.03,0.04,0.05,0.06,0.07,0.08,0.09,0.1]:\n",
    "    tmp = eval_df_all.copy()\n",
    "    tmp['pred'] = np.clip(tmp['pred'],th,1-th)\n",
    "    print('th:'+str(th))\n",
    "    show_eval_results(tmp)\n",
    "    print()"
   ]
  },
  {
   "cell_type": "markdown",
   "metadata": {},
   "source": [
    "## make_sub"
   ]
  },
  {
   "cell_type": "code",
   "execution_count": 28,
   "metadata": {},
   "outputs": [
    {
     "data": {
      "text/plain": [
       "<AxesSubplot:>"
      ]
     },
     "execution_count": 28,
     "metadata": {},
     "output_type": "execute_result"
    },
    {
     "data": {
      "image/png": "[encoded data removed]",
      "text/plain": [
       "<Figure size 432x288 with 1 Axes>"
      ]
     },
     "metadata": {},
     "output_type": "display_data"
    }
   ],
   "source": [
    "submission = test[['ID', 'Pred']].copy()\n",
    "pred = np.zeros(test.shape[0])\n",
    "\n",
    "model = LogisticRegression()\n",
    "model.fit(train[select_features],train[target])\n",
    "pred = model.predict_proba(test[select_features])[:,1]\n",
    "\n",
    "# clipping\n",
    "th = 0.04\n",
    "pred = np.clip(pred,th,1-th)\n",
    "\n",
    "submission['Pred'] = pred\n",
    "submission['Pred'].hist()"
   ]
  },
  {
   "cell_type": "code",
   "execution_count": 29,
   "metadata": {},
   "outputs": [],
   "source": [
    "submission.to_csv(OUTPUT_DIR + f'/{EXP_NAME}.csv', index=False)"
   ]
  },
  {
   "cell_type": "code",
   "execution_count": 30,
   "metadata": {},
   "outputs": [],
   "source": [
    "# 決勝の２パターン\n",
    "test_a = test.copy()\n",
    "submission_a = submission.copy()\n",
    "\n",
    "test_a.loc[(test_a['T1_Region']=='East')&(test_a['T2_Region']=='South'), 'Pred'] = 1\n",
    "test_a.loc[(test_a['T1_Region']=='East')&(test_a['T2_Region']=='Midwest'), 'Pred'] = 1\n",
    "test_a.loc[(test_a['T1_Region']=='West')&(test_a['T2_Region']=='South'), 'Pred'] = 1\n",
    "test_a.loc[(test_a['T1_Region']=='West')&(test_a['T2_Region']=='Midwest'), 'Pred'] = 1\n",
    "\n",
    "test_a.loc[(test_a['T2_Region']=='East')&(test_a['T1_Region']=='South'), 'Pred'] = 0\n",
    "test_a.loc[(test_a['T2_Region']=='East')&(test_a['T1_Region']=='Midwest'), 'Pred'] = 0\n",
    "test_a.loc[(test_a['T2_Region']=='West')&(test_a['T1_Region']=='South'), 'Pred'] = 0\n",
    "test_a.loc[(test_a['T2_Region']=='West')&(test_a['T1_Region']=='Midwest'), 'Pred'] = 0\n",
    "\n",
    "submission_a['Pred'] = test_a['Pred']\n",
    "submission_a.to_csv(OUTPUT_DIR + f'/{EXP_NAME}_a.csv', index=False)"
   ]
  },
  {
   "cell_type": "code",
   "execution_count": 31,
   "metadata": {},
   "outputs": [],
   "source": [
    "test_b = test.copy()\n",
    "submission_b = submission.copy()\n",
    "\n",
    "test_b.loc[(test_b['T1_Region']=='East')&(test_b['T2_Region']=='South'), 'Pred'] = 0\n",
    "test_b.loc[(test_b['T1_Region']=='East')&(test_b['T2_Region']=='Midwest'), 'Pred'] = 0\n",
    "test_b.loc[(test_b['T1_Region']=='West')&(test_b['T2_Region']=='South'), 'Pred'] = 0\n",
    "test_b.loc[(test_b['T1_Region']=='West')&(test_b['T2_Region']=='Midwest'), 'Pred'] = 0\n",
    "\n",
    "test_b.loc[(test_b['T2_Region']=='East')&(test_b['T1_Region']=='South'), 'Pred'] = 1\n",
    "test_b.loc[(test_b['T2_Region']=='East')&(test_b['T1_Region']=='Midwest'), 'Pred'] = 1\n",
    "test_b.loc[(test_b['T2_Region']=='West')&(test_b['T1_Region']=='South'), 'Pred'] = 1\n",
    "test_b.loc[(test_b['T2_Region']=='West')&(test_b['T1_Region']=='Midwest'), 'Pred'] = 1\n",
    "\n",
    "submission_b['Pred'] = test_b['Pred']\n",
    "submission_b.to_csv(OUTPUT_DIR + f'/{EXP_NAME}_b.csv', index=False)"
   ]
  }
 ],
 "metadata": {
  "kernelspec": {
   "display_name": "Python 3",
   "language": "python",
   "name": "python3"
  },
  "language_info": {
   "codemirror_mode": {
    "name": "ipython",
    "version": 3
   },
   "file_extension": ".py",
   "mimetype": "text/x-python",
   "name": "python",
   "nbconvert_exporter": "python",
   "pygments_lexer": "ipython3",
   "version": "3.7.9"
  }
 },
 "nbformat": 4,
 "nbformat_minor": 4
}
